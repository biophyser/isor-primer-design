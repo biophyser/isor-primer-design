{
 "cells": [
  {
   "cell_type": "markdown",
   "metadata": {},
   "source": [
    "# TOC\n",
    "- <a href=\"#Data-reading\">Data Reading</a>\n",
    "    - <a href=\"#Read-Testing\">Read Testing</a>\n",
    "- <a href=\"#Finding-Indels\">Finding Indels</a>\n",
    "- <a href=\"#Finding-Differences\">Finding Differences</a>\n",
    "- <a href=\"#Replacement-Codons\">Replacement Codons</a>\n",
    "- <a href=\"#Codon-Swap\">Codon Swap</a>\n",
    "- <a href=\"#Build-Primers\">Build Primers</a>\n",
    "- <a href=\"#REALIZATIONS\">REALIZATIONS</a>\n",
    "- <a href=\"#Table-Generation\">Codon Table Generation</a>"
   ]
  },
  {
   "cell_type": "markdown",
   "metadata": {},
   "source": [
    "# Data reading\n",
    "\n",
    "<a href=\"#TOC\">TOC</a>"
   ]
  },
  {
   "cell_type": "code",
   "execution_count": 1,
   "metadata": {},
   "outputs": [],
   "source": [
    "from Bio import SeqIO\n",
    "from Bio.Data import CodonTable\n",
    "from Bio.Seq import Seq\n",
    "from pandas import DataFrame"
   ]
  },
  {
   "cell_type": "code",
   "execution_count": 149,
   "metadata": {},
   "outputs": [],
   "source": [
    "def read_clustal(filepath, data_dict):\n",
    "    \"\"\"\n",
    "    Reads a clustal protein alignment file. Raises an exception if more than\n",
    "    two sequences are in the alignment.\n",
    "    \n",
    "    Parameters\n",
    "    ----------\n",
    "    filepath: str\n",
    "        path to the clustal file\n",
    "    \n",
    "    data_dict: dict\n",
    "        The data dictionary to be populated. Defined above.\n",
    "        \n",
    "    TODO\n",
    "    ----\n",
    "    Add a try/except to check that the path and file exists. Import os stuff.\n",
    "    \"\"\"\n",
    "    \n",
    "    for i, s in enumerate(SeqIO.parse(filename, format='clustal')):\n",
    "        try:\n",
    "            assert i < 2\n",
    "        except:\n",
    "            raise Exception(\"More than two sequences.\")\n",
    "        data['protein{}'.format(i+1)]['id'].append(s.id)\n",
    "        data['protein{}'.format(i+1)]['seq_string'] = str(s.seq)\n",
    "        data['protein{}'.format(i+1)]['description'].append(s.description)\n",
    "        data['protein{}'.format(i+1)]['name'].append(s.name)\n",
    "        #data['protein{}'.format(i+1)]['seq_list'] = parse_seq_align(data['protein{}'.format(i+1)]['seq_string'])\n",
    "        data['protein{}'.format(i+1)]['seq_list'] = list(str(s.seq))"
   ]
  },
  {
   "cell_type": "markdown",
   "metadata": {},
   "source": [
    "Why do I need `parse_seq_align`?"
   ]
  },
  {
   "cell_type": "code",
   "execution_count": 150,
   "metadata": {},
   "outputs": [],
   "source": [
    "def parse_seq_align(seq_string):\n",
    "    \"\"\"\n",
    "    Parses an alignment string that may have indels present.\n",
    "    \n",
    "    Parameters\n",
    "    ----------\n",
    "    seq_string: str\n",
    "        Protein sequence from a clustal alignment file.\n",
    "        \n",
    "    Returns\n",
    "    -------\n",
    "    seq_list: list\n",
    "        Protein sequence as a list with indels removed.\n",
    "    \"\"\"\n",
    "    \n",
    "    return list(''.join(seq_string.split('-')))"
   ]
  },
  {
   "cell_type": "code",
   "execution_count": 151,
   "metadata": {},
   "outputs": [],
   "source": [
    "def read_dna(filename, data):\n",
    "    \"\"\"\n",
    "    Reads a fasta file that contains a single DNA sequence. Raises an exception if \n",
    "    more than one sequence is in the file.\n",
    "    \n",
    "    Parameters\n",
    "    ----------\n",
    "    filepath: str\n",
    "        path to the fasta file\n",
    "    \n",
    "    data_dict: dict\n",
    "        The data dictionary to be populated. Defined above.\n",
    "        \n",
    "    TODO\n",
    "    ----\n",
    "    Add a try/except to check that the path and file exists. Import os stuff.\n",
    "\n",
    "    \"\"\"\n",
    "\n",
    "    \n",
    "    for i, s in enumerate(SeqIO.parse(filename, format='fasta')):\n",
    "        try:\n",
    "            assert i < 1\n",
    "        except:\n",
    "            raise Exception(\"More than one sequence in file.\")\n",
    "        data['dna{}'.format(i+1)]['id'].append(s.id)\n",
    "        data['dna{}'.format(i+1)]['seq_string'] = str(s.seq)\n",
    "        data['dna{}'.format(i+1)]['description'].append(s.description)\n",
    "        data['dna{}'.format(i+1)]['name'].append(s.name)\n",
    "        s = data['dna1']['seq_string'] \n",
    "        codon_list = [s[i:i+3].upper() for i in range(0, len(s), 3)]\n",
    "        data['dna{}'.format(i+1)]['codon_list'] = codon_list\n",
    "        t = CodonTable.standard_dna_table\n",
    "        data['dna{}'.format(i+1)]['translated_list'] = [t.forward_table[i] for i in codon_list]\n",
    "    "
   ]
  },
  {
   "cell_type": "markdown",
   "metadata": {},
   "source": [
    "## Read Testing  \n",
    "<a href=\"#TOC\">TOC</a>"
   ]
  },
  {
   "cell_type": "code",
   "execution_count": 296,
   "metadata": {},
   "outputs": [],
   "source": [
    "data = {\n",
    "    'protein1': {\n",
    "                 'id': [], \n",
    "                 'seq_string':[],\n",
    "                 'seq_list':[],\n",
    "                 'reduced_list':[],\n",
    "                 'description': [], \n",
    "                 'name':[]\n",
    "                },\n",
    "    'protein2': {\n",
    "                 'id': [], \n",
    "                 'seq_string':[],\n",
    "                 'seq_list':[],\n",
    "                 'reduced_list':[],\n",
    "                 'description': [], \n",
    "                 'name':[]\n",
    "                },\n",
    "    'dna1': {\n",
    "             'id': [], \n",
    "             'seq_string':[], \n",
    "             'description': [], \n",
    "             'name':[], \n",
    "             'codon_list':[], \n",
    "             'translated_list':[]\n",
    "            },\n",
    "    'diff_dict': {\n",
    "                  'swap_index': [], \n",
    "                  'swap_old_aa': [], \n",
    "                  'swap_new_aa': [], \n",
    "                  'swap_new_codon': [],\n",
    "                  'indel_index': [],\n",
    "                  'indel_new_aa': [],\n",
    "                  'indel_new_codon': []                 \n",
    "                 },\n",
    "    'meta': {'time':'', \n",
    "            }\n",
    "}\n"
   ]
  },
  {
   "cell_type": "code",
   "execution_count": 298,
   "metadata": {},
   "outputs": [],
   "source": [
    "filename = 'mouse_opossum_alignment-20171115.clustal'\n",
    "read_clustal(filename, data)\n",
    "filename = 'mouse_ly96_dna.fasta'\n",
    "read_dna(filename, data)"
   ]
  },
  {
   "cell_type": "markdown",
   "metadata": {},
   "source": [
    "# Finding Indels\n",
    "<a href=\"#TOC\">TOC</a>"
   ]
  },
  {
   "cell_type": "markdown",
   "metadata": {},
   "source": [
    "## Solution\n",
    "I'm going to split up finding differences into two groups:\n",
    "1. Finding insertion sites\n",
    "2. Substitutions and deletions\n",
    "\n",
    "Deletions pose a weird problem because I lose the index number that I need to change the codon. This issue isn't present for deletions since the original sequence still has that codon."
   ]
  },
  {
   "cell_type": "code",
   "execution_count": 275,
   "metadata": {},
   "outputs": [
    {
     "data": {
      "text/plain": [
       "dict_keys(['protein1', 'protein2', 'dna1', 'diff_dict', 'meta'])"
      ]
     },
     "execution_count": 275,
     "metadata": {},
     "output_type": "execute_result"
    }
   ],
   "source": [
    "data.keys()"
   ]
  },
  {
   "cell_type": "code",
   "execution_count": 299,
   "metadata": {},
   "outputs": [],
   "source": [
    "def find_indels(data):\n",
    "    \"\"\"\n",
    "    Finds indices and replacement amino acids for indels in the \n",
    "    template protein sequence.\n",
    "    \n",
    "    Parameters\n",
    "    ----------\n",
    "    data: dict\n",
    "        A dictionary defined previously that contains protein \n",
    "        sequence lists.\n",
    "        \n",
    "    Returns\n",
    "    -------\n",
    "    Nothing. Populates the data dictionary with reduced protein\n",
    "    sequences, the indel list, and insertion list.\n",
    "    \"\"\"\n",
    "    \n",
    "    # Copying new instances of the protein lists\n",
    "    temp_prot1_list = data['protein1']['seq_list'][:]\n",
    "    temp_prot2_list = data['protein2']['seq_list'][:]\n",
    "    \n",
    "    # Getting a list of indels in the first sequence\n",
    "    indel_list = [i for i,res in enumerate(temp_prot1_list) if res=='-']\n",
    "    \n",
    "    # Getting the inserted residue at the indel postions\n",
    "    insert_list = [data['protein2']['seq_list'][i] for i in indel_list]\n",
    "    \n",
    "    # Remove indels, in reverse order to maintain indices,\n",
    "    # from temp_seq_list\n",
    "    for index in sorted(indel_list, reverse=True):\n",
    "        del temp_prot1_list[index]\n",
    "        del temp_prot2_list[index]\n",
    "        \n",
    "    # Set the reduced protein sequence lists, indel list, and insert list\n",
    "    # as elements in the data dictionary.\n",
    "    # NOT SURE WHAT THE STRUCTURE OF THIS DICTIONARY SHOULD BE\n",
    "    data['protein1']['reduced_list'] = temp_prot1_list\n",
    "    data['protein2']['reduced_list'] = temp_prot2_list\n",
    "    data['diff_dict']['indel_index'] = indel_list\n",
    "    data['diff_dict']['indel_new_aa'] = insert_list"
   ]
  },
  {
   "cell_type": "code",
   "execution_count": 301,
   "metadata": {},
   "outputs": [],
   "source": [
    "find_indels(data)"
   ]
  },
  {
   "cell_type": "markdown",
   "metadata": {},
   "source": [
    "# Finding Differences\n",
    "<a href=\"#TOC\">TOC</a>"
   ]
  },
  {
   "cell_type": "code",
   "execution_count": 303,
   "metadata": {},
   "outputs": [],
   "source": [
    "def find_differences(data):\n",
    "    \"\"\"\n",
    "    Find the differences between two clustal aligned protein sequences.\n",
    "    \n",
    "    Parameters\n",
    "    ----------\n",
    "    data: dict\n",
    "        A nested dictionary defined by the isor_primer program.\n",
    "        \n",
    "    Returns\n",
    "    -------\n",
    "    Nothing. This populates the diff_dict in that larger supplied data dictionary.\n",
    "    \n",
    "    TODO\n",
    "    ----\n",
    "    MAKE SURE THIS FUNCTION CALL COMES AFTER THE FIND_INDELS CALL.\n",
    "    \"\"\"\n",
    "    \n",
    "    # I SHOULD PUT THIS AS A GENERAL CHECK AT THE BEGINNING OF MY SCRIPT\n",
    "    \"\"\"try:\n",
    "        assert len(prot1) > 0 and len(prot2) > 0\n",
    "    except:\n",
    "        raise Exception(\"Make sure you have two protein sequences loaded.\")\"\"\"\n",
    "\n",
    "    # USE THE LIST VERSION OF THE PROTEIN SEQUENCE\n",
    "    # LIST INDEXING IS FASTER\n",
    "    prot1 = data['protein1']['reduced_list']\n",
    "    prot2 = data['protein2']['reduced_list']\n",
    "        \n",
    "    # Comparing the two sequences pairwise\n",
    "    for i,res in enumerate(prot1):\n",
    "        if prot1[i] != prot2[i]:\n",
    "            data['diff_dict']['swap_index'].append(i)\n",
    "            data['diff_dict']['swap_old_aa'].append(prot1[i])\n",
    "            data['diff_dict']['swap_new_aa'].append(prot2[i])"
   ]
  },
  {
   "cell_type": "code",
   "execution_count": 304,
   "metadata": {},
   "outputs": [],
   "source": [
    "find_differences(data)"
   ]
  },
  {
   "cell_type": "markdown",
   "metadata": {},
   "source": [
    "# Codon Swap\n",
    "<a href=\"#TOC\">TOC</a>\n",
    "Do the codon swapping separate from finding indels and differences."
   ]
  },
  {
   "cell_type": "code",
   "execution_count": 310,
   "metadata": {},
   "outputs": [],
   "source": [
    "def codon_swap(data):\n",
    "    \"\"\"\n",
    "    Grabs new codons given a one-letter amino acid code.\n",
    "    \n",
    "    Parameters\n",
    "    ----------\n",
    "    data: dict\n",
    "        A nested dictionary defined by the isor_primer program.\n",
    "        \n",
    "    Returns\n",
    "    -------\n",
    "    Nothing. This adds to the supplied data dictionary.\n",
    "    \n",
    "    TODO\n",
    "    ----\n",
    "    MAKE SURE THIS FUNCTION CALL COMES AFTER THE FIND_INDELS CALL.\n",
    "    \"\"\"\n",
    "    \n",
    "    # The back translation table for NNS codon with human preference\n",
    "    back_table = {\n",
    "        'A':'GCC', \n",
    "        'C':'TGC', \n",
    "        'D':'GAC', \n",
    "        'E':'GAG', \n",
    "        'F':'TTC', \n",
    "        'G':'GGC', \n",
    "        'H':'CAC', \n",
    "        'I':'ATC', \n",
    "        'K':'AAG', \n",
    "        'L':'CTG', \n",
    "        'M':'ATG', \n",
    "        'N':'AAC', \n",
    "        'P':'CCC', \n",
    "        'Q':'CAG', \n",
    "        'R':'CGG', \n",
    "        'S':'AGC', \n",
    "        'T':'ACC', \n",
    "        'V':'GTG', \n",
    "        'W':'TGG', \n",
    "        'Y':'TAC',\n",
    "        '-':''\n",
    "       }\n",
    "    \n",
    "    # New codons for indel insertion\n",
    "    data['diff_dict']['indel_new_codon'] = [back_table[res] for res in data['diff_dict']['indel_new_aa']]\n",
    "    # New codons for amino acid swaps\n",
    "    data['diff_dict']['swap_new_codon'] = [back_table[res] for res in data['diff_dict']['swap_new_aa']]\n"
   ]
  },
  {
   "cell_type": "code",
   "execution_count": 311,
   "metadata": {},
   "outputs": [],
   "source": [
    "codon_swap(data)"
   ]
  },
  {
   "cell_type": "markdown",
   "metadata": {},
   "source": [
    "# Build Primers\n",
    "<a href=\"#TOC\">TOC</a>"
   ]
  },
  {
   "cell_type": "code",
   "execution_count": 364,
   "metadata": {},
   "outputs": [],
   "source": [
    "def build_primers(data):\n",
    "    \"\"\"\n",
    "    Pulls 5 codons upstream and downstream of the mutation site and builds \n",
    "    a 30 or 33 base pair primer.\n",
    "    \n",
    "    Populates the data['primers'] nested dictionary\n",
    "    \n",
    "    TODO\n",
    "    ----\n",
    "    Deal with the issue of needing more sequence upstream and downstream of the\n",
    "    protein coding sequence.\n",
    "    \"\"\"\n",
    "\n",
    "    primers = {'indel':[], 'swap':[]}\n",
    "\n",
    "    if len(data['diff_dict']['indel_index']) > 0:\n",
    "        for i in data['diff_dict']['indel_index']:\n",
    "            upstream = data['dna1']['codon_list'][(i-1)-5:(i-1)]\n",
    "            downstream = data['dna1']['codon_list'][i:i+5]\n",
    "            primers['indel'].append(''.join(upstream + downstream))\n",
    "            \n",
    "    if len(data['diff_dict']['swap_index']) > 0:\n",
    "        for n,site in enumerate(data['diff_dict']['swap_index']):\n",
    "            # Pull the 5 codons upstream of the swap site from the codon list\n",
    "            upstream = data['dna1']['codon_list'][(site-1)-5:(site-1)]\n",
    "            # Pull the 5 codons downstream of the swap site from the codon list\n",
    "            downstream = data['dna1']['codon_list'][(site+1):(site+1)+5]\n",
    "            # Add the upstream codons + the new site codon + the downstream codons\n",
    "            primers['swap'].append(''.join(upstream + list(data['diff_dict']['swap_new_codon'][n]) + downstream))\n",
    "            \n",
    "    data['primers'] = primers"
   ]
  },
  {
   "cell_type": "code",
   "execution_count": 365,
   "metadata": {},
   "outputs": [],
   "source": [
    "build_primers(data)"
   ]
  },
  {
   "cell_type": "markdown",
   "metadata": {},
   "source": [
    "# REALIZATIONS\n",
    "<a href=\"#TOC\">TOC</a>"
   ]
  },
  {
   "cell_type": "markdown",
   "metadata": {},
   "source": [
    "I need logic to deal with insertions larger than one amino acid."
   ]
  },
  {
   "cell_type": "markdown",
   "metadata": {},
   "source": [
    "# Replacement Codons\n",
    "Make a preferred codon dictionary. Could add some logic to check for stop codons. Maybe a first, second, and third choice set of codon dictionaries?\n",
    "\n",
    "<a href=\"#TOC\">TOC</a>"
   ]
  },
  {
   "cell_type": "code",
   "execution_count": 186,
   "metadata": {},
   "outputs": [
    {
     "name": "stdout",
     "output_type": "stream",
     "text": [
      "Table 1 Standard, SGC0\n",
      "\n",
      "  |  T      |  C      |  A      |  G      |\n",
      "--+---------+---------+---------+---------+--\n",
      "T | TTT F   | TCT S   | TAT Y   | TGT C   | T\n",
      "T | TTC F   | TCC S   | TAC Y   | TGC C   | C\n",
      "T | TTA L   | TCA S   | TAA Stop| TGA Stop| A\n",
      "T | TTG L(s)| TCG S   | TAG Stop| TGG W   | G\n",
      "--+---------+---------+---------+---------+--\n",
      "C | CTT L   | CCT P   | CAT H   | CGT R   | T\n",
      "C | CTC L   | CCC P   | CAC H   | CGC R   | C\n",
      "C | CTA L   | CCA P   | CAA Q   | CGA R   | A\n",
      "C | CTG L(s)| CCG P   | CAG Q   | CGG R   | G\n",
      "--+---------+---------+---------+---------+--\n",
      "A | ATT I   | ACT T   | AAT N   | AGT S   | T\n",
      "A | ATC I   | ACC T   | AAC N   | AGC S   | C\n",
      "A | ATA I   | ACA T   | AAA K   | AGA R   | A\n",
      "A | ATG M(s)| ACG T   | AAG K   | AGG R   | G\n",
      "--+---------+---------+---------+---------+--\n",
      "G | GTT V   | GCT A   | GAT D   | GGT G   | T\n",
      "G | GTC V   | GCC A   | GAC D   | GGC G   | C\n",
      "G | GTA V   | GCA A   | GAA E   | GGA G   | A\n",
      "G | GTG V   | GCG A   | GAG E   | GGG G   | G\n",
      "--+---------+---------+---------+---------+--\n"
     ]
    }
   ],
   "source": [
    "print(CodonTable.unambiguous_dna_by_id[1])"
   ]
  },
  {
   "cell_type": "markdown",
   "metadata": {},
   "source": [
    "## Table Generation\n",
    "<a href=#TOC>TOC</a>"
   ]
  },
  {
   "cell_type": "code",
   "execution_count": 75,
   "metadata": {},
   "outputs": [
    {
     "name": "stdout",
     "output_type": "stream",
     "text": [
      "'A':['GCC', 'GCG'], \n",
      "'C':['TGC'], \n",
      "'D':['GAC'], \n",
      "'E':['GAG'], \n",
      "'F':['TTC'], \n",
      "'G':['GGC', 'GGG'], \n",
      "'H':['CAC'], \n",
      "'I':['ATC'], \n",
      "'K':['AAG'], \n",
      "'L':['TTG', 'CTC', 'CTG'], \n",
      "'M':['ATG'], \n",
      "'N':['AAC'], \n",
      "'P':['CCC', 'CCG'], \n",
      "'Q':['CAG'], \n",
      "'R':['AGG', 'CGC', 'CGG'], \n",
      "'S':['AGC', 'TCC', 'TCG'], \n",
      "'T':['ACC', 'ACG'], \n",
      "'V':['GTC', 'GTG'], \n",
      "'W':['TGG'], \n",
      "'Y':['TAC'], \n"
     ]
    }
   ],
   "source": [
    "# Building an NNS codon dictionary\n",
    "# http://lists.open-bio.org/pipermail/biopython/2007-August/003660.html\n",
    "\n",
    "t = CodonTable.standard_dna_table\n",
    "\n",
    "bt = dict()\n",
    "for a1 in \"ATCG\" :\n",
    "    for a2 in \"ATCG\" :\n",
    "        for a3 in \"CG\" :\n",
    "            codon = a1+a2+a3\n",
    "            try :\n",
    "                amino = t.forward_table[codon]\n",
    "            except KeyError :\n",
    "                assert codon in t.stop_codons\n",
    "                continue\n",
    "            try:\n",
    "                bt[amino].append(codon)\n",
    "            except KeyError :\n",
    "                bt[amino] = [codon]\n",
    "\n",
    "for amino in sorted(bt.keys()) :\n",
    "     print(\"'{}':{}, \".format(amino, bt[amino]))\n"
   ]
  },
  {
   "cell_type": "code",
   "execution_count": 72,
   "metadata": {},
   "outputs": [],
   "source": [
    "# Choosing the codon with the highest usage in humans\n",
    "# https://www.genscript.com/tools/codon-frequency-table\n",
    "back_table = {\n",
    "        'A':'GCC', \n",
    "        'C':'TGC', \n",
    "        'D':'GAC', \n",
    "        'E':'GAG', \n",
    "        'F':'TTC', \n",
    "        'G':'GGC', \n",
    "        'H':'CAC', \n",
    "        'I':'ATC', \n",
    "        'K':'AAG', \n",
    "        'L':'CTG', \n",
    "        'M':'ATG', \n",
    "        'N':'AAC', \n",
    "        'P':'CCC', \n",
    "        'Q':'CAG', \n",
    "        'R':'CGG', \n",
    "        'S':'AGC', \n",
    "        'T':'ACC', \n",
    "        'V':'GTG', \n",
    "        'W':'TGG', \n",
    "        'Y':'TAC'\n",
    "       }"
   ]
  },
  {
   "cell_type": "code",
   "execution_count": null,
   "metadata": {},
   "outputs": [],
   "source": []
  }
 ],
 "metadata": {
  "kernelspec": {
   "display_name": "Python 3",
   "language": "python",
   "name": "python3"
  },
  "language_info": {
   "codemirror_mode": {
    "name": "ipython",
    "version": 3
   },
   "file_extension": ".py",
   "mimetype": "text/x-python",
   "name": "python",
   "nbconvert_exporter": "python",
   "pygments_lexer": "ipython3",
   "version": "3.6.1"
  }
 },
 "nbformat": 4,
 "nbformat_minor": 2
}
